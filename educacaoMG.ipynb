{
  "nbformat": 4,
  "nbformat_minor": 0,
  "metadata": {
    "colab": {
      "name": "educacaoMG.ipynb",
      "provenance": [],
      "collapsed_sections": []
    },
    "kernelspec": {
      "display_name": "Python 3",
      "language": "python",
      "name": "python3"
    },
    "language_info": {
      "codemirror_mode": {
        "name": "ipython",
        "version": 3
      },
      "file_extension": ".py",
      "mimetype": "text/x-python",
      "name": "python",
      "nbconvert_exporter": "python",
      "pygments_lexer": "ipython3",
      "version": "3.8.3"
    }
  },
  "cells": [
    {
      "cell_type": "code",
      "metadata": {
        "id": "D8t3VRBH_SPg"
      },
      "source": [
        "import pandas as pd\n",
        "import seaborn as sns\n",
        "import numpy as np\n",
        "import matplotlib.pyplot as plt\n",
        "from sklearn.linear_model import LinearRegression\n",
        "from google.colab import drive"
      ],
      "execution_count": null,
      "outputs": []
    },
    {
      "cell_type": "code",
      "metadata": {
        "id": "pnFvKmLdKjJJ",
        "outputId": "d3989749-97cc-4c31-82e7-888d1d36d639",
        "colab": {
          "base_uri": "https://localhost:8080/"
        }
      },
      "source": [
        "from google.colab import drive\n",
        "drive.mount('/content/drive')"
      ],
      "execution_count": null,
      "outputs": [
        {
          "output_type": "stream",
          "text": [
            "Drive already mounted at /content/drive; to attempt to forcibly remount, call drive.mount(\"/content/drive\", force_remount=True).\n"
          ],
          "name": "stdout"
        }
      ]
    },
    {
      "cell_type": "markdown",
      "metadata": {
        "id": "CHTk4bEdyyXz"
      },
      "source": [
        "# Analise dos Dados do Enem 2019"
      ]
    },
    {
      "cell_type": "code",
      "metadata": {
        "id": "qWCPlb-ON-2E"
      },
      "source": [
        "#dados do enem 2019 de provas feitas em Minas Gerais\n",
        "#https://drive.google.com/file/d/1uckzyjRBKPFEAp2ZN0EsV1nmHWolr93c/view?usp=sharing\n",
        "dados = pd.read_csv('mg.csv',';')"
      ],
      "execution_count": null,
      "outputs": []
    },
    {
      "cell_type": "code",
      "metadata": {
        "id": "ZRx3gYPh91gs",
        "outputId": "62cea2c8-e24c-43dd-9cc9-ff90f7c637ef",
        "colab": {
          "base_uri": "https://localhost:8080/"
        }
      },
      "source": [
        "#tamanho total dos dados crus\n",
        "dados.shape"
      ],
      "execution_count": null,
      "outputs": [
        {
          "output_type": "execute_result",
          "data": {
            "text/plain": [
              "(538896, 87)"
            ]
          },
          "metadata": {
            "tags": []
          },
          "execution_count": 166
        }
      ]
    },
    {
      "cell_type": "code",
      "metadata": {
        "id": "sfwD6_kid1Qf",
        "outputId": "058641ab-eccc-4aee-da28-a9b529b98209",
        "colab": {
          "base_uri": "https://localhost:8080/",
          "height": 195
        }
      },
      "source": [
        "#Nota total igual Ciencias da Natureza, ciencias humanas, matematica, linguagem e codigos, redação / 5\n",
        "notas = ['NU_NOTA_CN','NU_NOTA_CH','NU_NOTA_MT','NU_NOTA_LC','NU_NOTA_REDACAO']\n",
        "dados[notas].head()"
      ],
      "execution_count": null,
      "outputs": [
        {
          "output_type": "execute_result",
          "data": {
            "text/html": [
              "<div>\n",
              "<style scoped>\n",
              "    .dataframe tbody tr th:only-of-type {\n",
              "        vertical-align: middle;\n",
              "    }\n",
              "\n",
              "    .dataframe tbody tr th {\n",
              "        vertical-align: top;\n",
              "    }\n",
              "\n",
              "    .dataframe thead th {\n",
              "        text-align: right;\n",
              "    }\n",
              "</style>\n",
              "<table border=\"1\" class=\"dataframe\">\n",
              "  <thead>\n",
              "    <tr style=\"text-align: right;\">\n",
              "      <th></th>\n",
              "      <th>NU_NOTA_CN</th>\n",
              "      <th>NU_NOTA_CH</th>\n",
              "      <th>NU_NOTA_MT</th>\n",
              "      <th>NU_NOTA_LC</th>\n",
              "      <th>NU_NOTA_REDACAO</th>\n",
              "    </tr>\n",
              "  </thead>\n",
              "  <tbody>\n",
              "    <tr>\n",
              "      <th>0</th>\n",
              "      <td>512.6</td>\n",
              "      <td>564.6</td>\n",
              "      <td>626.4</td>\n",
              "      <td>533.4</td>\n",
              "      <td>860.0</td>\n",
              "    </tr>\n",
              "    <tr>\n",
              "      <th>1</th>\n",
              "      <td>NaN</td>\n",
              "      <td>NaN</td>\n",
              "      <td>NaN</td>\n",
              "      <td>NaN</td>\n",
              "      <td>NaN</td>\n",
              "    </tr>\n",
              "    <tr>\n",
              "      <th>2</th>\n",
              "      <td>NaN</td>\n",
              "      <td>NaN</td>\n",
              "      <td>NaN</td>\n",
              "      <td>NaN</td>\n",
              "      <td>NaN</td>\n",
              "    </tr>\n",
              "    <tr>\n",
              "      <th>3</th>\n",
              "      <td>NaN</td>\n",
              "      <td>NaN</td>\n",
              "      <td>NaN</td>\n",
              "      <td>NaN</td>\n",
              "      <td>NaN</td>\n",
              "    </tr>\n",
              "    <tr>\n",
              "      <th>4</th>\n",
              "      <td>621.0</td>\n",
              "      <td>654.4</td>\n",
              "      <td>726.8</td>\n",
              "      <td>595.8</td>\n",
              "      <td>800.0</td>\n",
              "    </tr>\n",
              "  </tbody>\n",
              "</table>\n",
              "</div>"
            ],
            "text/plain": [
              "   NU_NOTA_CN  NU_NOTA_CH  NU_NOTA_MT  NU_NOTA_LC  NU_NOTA_REDACAO\n",
              "0       512.6       564.6       626.4       533.4            860.0\n",
              "1         NaN         NaN         NaN         NaN              NaN\n",
              "2         NaN         NaN         NaN         NaN              NaN\n",
              "3         NaN         NaN         NaN         NaN              NaN\n",
              "4       621.0       654.4       726.8       595.8            800.0"
            ]
          },
          "metadata": {
            "tags": []
          },
          "execution_count": 167
        }
      ]
    },
    {
      "cell_type": "code",
      "metadata": {
        "id": "-rUYq39rd1Qt",
        "outputId": "7c6eb81d-f409-40df-e444-4f86e8fe4e3f",
        "colab": {
          "base_uri": "https://localhost:8080/",
          "height": 195
        }
      },
      "source": [
        "#limpando os dados tirando todos que tiraram 0 em alguma materia e todos os treineiros\n",
        "dados = dados.query('NU_NOTA_CN > 0')\n",
        "dados = dados.query('NU_NOTA_CH > 0')\n",
        "dados = dados.query('NU_NOTA_MT > 0')\n",
        "dados = dados.query('NU_NOTA_LC > 0')\n",
        "dados = dados.query('NU_NOTA_REDACAO > 0')\n",
        "dados = dados.query('IN_TREINEIRO == 0')\n",
        "dados[notas].head()"
      ],
      "execution_count": null,
      "outputs": [
        {
          "output_type": "execute_result",
          "data": {
            "text/html": [
              "<div>\n",
              "<style scoped>\n",
              "    .dataframe tbody tr th:only-of-type {\n",
              "        vertical-align: middle;\n",
              "    }\n",
              "\n",
              "    .dataframe tbody tr th {\n",
              "        vertical-align: top;\n",
              "    }\n",
              "\n",
              "    .dataframe thead th {\n",
              "        text-align: right;\n",
              "    }\n",
              "</style>\n",
              "<table border=\"1\" class=\"dataframe\">\n",
              "  <thead>\n",
              "    <tr style=\"text-align: right;\">\n",
              "      <th></th>\n",
              "      <th>NU_NOTA_CN</th>\n",
              "      <th>NU_NOTA_CH</th>\n",
              "      <th>NU_NOTA_MT</th>\n",
              "      <th>NU_NOTA_LC</th>\n",
              "      <th>NU_NOTA_REDACAO</th>\n",
              "    </tr>\n",
              "  </thead>\n",
              "  <tbody>\n",
              "    <tr>\n",
              "      <th>0</th>\n",
              "      <td>512.6</td>\n",
              "      <td>564.6</td>\n",
              "      <td>626.4</td>\n",
              "      <td>533.4</td>\n",
              "      <td>860.0</td>\n",
              "    </tr>\n",
              "    <tr>\n",
              "      <th>4</th>\n",
              "      <td>621.0</td>\n",
              "      <td>654.4</td>\n",
              "      <td>726.8</td>\n",
              "      <td>595.8</td>\n",
              "      <td>800.0</td>\n",
              "    </tr>\n",
              "    <tr>\n",
              "      <th>6</th>\n",
              "      <td>469.8</td>\n",
              "      <td>575.4</td>\n",
              "      <td>412.3</td>\n",
              "      <td>525.8</td>\n",
              "      <td>600.0</td>\n",
              "    </tr>\n",
              "    <tr>\n",
              "      <th>7</th>\n",
              "      <td>353.0</td>\n",
              "      <td>507.3</td>\n",
              "      <td>610.6</td>\n",
              "      <td>536.2</td>\n",
              "      <td>740.0</td>\n",
              "    </tr>\n",
              "    <tr>\n",
              "      <th>9</th>\n",
              "      <td>505.2</td>\n",
              "      <td>566.5</td>\n",
              "      <td>579.2</td>\n",
              "      <td>572.5</td>\n",
              "      <td>560.0</td>\n",
              "    </tr>\n",
              "  </tbody>\n",
              "</table>\n",
              "</div>"
            ],
            "text/plain": [
              "   NU_NOTA_CN  NU_NOTA_CH  NU_NOTA_MT  NU_NOTA_LC  NU_NOTA_REDACAO\n",
              "0       512.6       564.6       626.4       533.4            860.0\n",
              "4       621.0       654.4       726.8       595.8            800.0\n",
              "6       469.8       575.4       412.3       525.8            600.0\n",
              "7       353.0       507.3       610.6       536.2            740.0\n",
              "9       505.2       566.5       579.2       572.5            560.0"
            ]
          },
          "metadata": {
            "tags": []
          },
          "execution_count": 168
        }
      ]
    },
    {
      "cell_type": "code",
      "metadata": {
        "id": "boBmkpBv_Q2z",
        "outputId": "f72352d8-d051-4b06-faa7-d3264545e763",
        "colab": {
          "base_uri": "https://localhost:8080/"
        }
      },
      "source": [
        "#total dos dados \n",
        "dados.shape"
      ],
      "execution_count": null,
      "outputs": [
        {
          "output_type": "execute_result",
          "data": {
            "text/plain": [
              "(325462, 87)"
            ]
          },
          "metadata": {
            "tags": []
          },
          "execution_count": 169
        }
      ]
    },
    {
      "cell_type": "code",
      "metadata": {
        "id": "h7NzoZ2cd1RV",
        "outputId": "df023547-9cb5-4be4-8c8f-a85d70c558dc",
        "colab": {
          "base_uri": "https://localhost:8080/",
          "height": 282
        }
      },
      "source": [
        "#Gráfico de idade \n",
        "temp = dados['NU_IDADE'].value_counts().sort_index()\n",
        "sns.lineplot(data=temp)"
      ],
      "execution_count": null,
      "outputs": [
        {
          "output_type": "execute_result",
          "data": {
            "text/plain": [
              "<matplotlib.axes._subplots.AxesSubplot at 0x7f5cf8564630>"
            ]
          },
          "metadata": {
            "tags": []
          },
          "execution_count": 170
        },
        {
          "output_type": "display_data",
          "data": {
            "image/png": "[encoded data removed]",
            "text/plain": [
              "<Figure size 432x288 with 1 Axes>"
            ]
          },
          "metadata": {
            "tags": [],
            "needs_background": "light"
          }
        }
      ]
    },
    {
      "cell_type": "code",
      "metadata": {
        "id": "89t0cigwhijx",
        "outputId": "a52f264e-c917-4a01-b1d6-981eb2f4a3ec",
        "colab": {
          "base_uri": "https://localhost:8080/",
          "height": 623
        }
      },
      "source": [
        "#Boxplot de idade\n",
        "plt.figure(figsize=(10,10))\n",
        "sns.boxplot(x='Q006', y='NU_IDADE', data= dados)"
      ],
      "execution_count": null,
      "outputs": [
        {
          "output_type": "execute_result",
          "data": {
            "text/plain": [
              "<matplotlib.axes._subplots.AxesSubplot at 0x7f5cf4ebf908>"
            ]
          },
          "metadata": {
            "tags": []
          },
          "execution_count": 171
        },
        {
          "output_type": "display_data",
          "data": {
            "image/png": "[encoded data removed]",
            "text/plain": [
              "<Figure size 720x720 with 1 Axes>"
            ]
          },
          "metadata": {
            "tags": [],
            "needs_background": "light"
          }
        }
      ]
    },
    {
      "cell_type": "code",
      "metadata": {
        "id": "q4ztMAOrd1Re",
        "outputId": "860c2d84-e846-43f4-9e63-0d831de39906",
        "colab": {
          "base_uri": "https://localhost:8080/"
        }
      },
      "source": [
        "#Total de idade em ordem de recorrencia \n",
        "dados['NU_IDADE'].value_counts()"
      ],
      "execution_count": null,
      "outputs": [
        {
          "output_type": "execute_result",
          "data": {
            "text/plain": [
              "18    75729\n",
              "17    51221\n",
              "19    46954\n",
              "20    30784\n",
              "21    20476\n",
              "      ...  \n",
              "83        1\n",
              "82        1\n",
              "76        1\n",
              "81        1\n",
              "6         1\n",
              "Name: NU_IDADE, Length: 72, dtype: int64"
            ]
          },
          "metadata": {
            "tags": []
          },
          "execution_count": 172
        }
      ]
    },
    {
      "cell_type": "code",
      "metadata": {
        "id": "ivi5ezY5d1Rn"
      },
      "source": [
        "#criação da coluna nota total\n",
        "dados['NU_NOTA_TOTAL'] = dados[notas].sum(axis=1)/5\n",
        "notas = ['NU_NOTA_CN','NU_NOTA_CH','NU_NOTA_MT','NU_NOTA_LC','NU_NOTA_REDACAO', 'NU_NOTA_TOTAL']"
      ],
      "execution_count": null,
      "outputs": []
    },
    {
      "cell_type": "code",
      "metadata": {
        "id": "oBYQYlKQd1Rv",
        "outputId": "4b40924c-17cb-4794-b604-7c0c12628310",
        "colab": {
          "base_uri": "https://localhost:8080/",
          "height": 195
        }
      },
      "source": [
        "dados[notas].head()"
      ],
      "execution_count": null,
      "outputs": [
        {
          "output_type": "execute_result",
          "data": {
            "text/html": [
              "<div>\n",
              "<style scoped>\n",
              "    .dataframe tbody tr th:only-of-type {\n",
              "        vertical-align: middle;\n",
              "    }\n",
              "\n",
              "    .dataframe tbody tr th {\n",
              "        vertical-align: top;\n",
              "    }\n",
              "\n",
              "    .dataframe thead th {\n",
              "        text-align: right;\n",
              "    }\n",
              "</style>\n",
              "<table border=\"1\" class=\"dataframe\">\n",
              "  <thead>\n",
              "    <tr style=\"text-align: right;\">\n",
              "      <th></th>\n",
              "      <th>NU_NOTA_CN</th>\n",
              "      <th>NU_NOTA_CH</th>\n",
              "      <th>NU_NOTA_MT</th>\n",
              "      <th>NU_NOTA_LC</th>\n",
              "      <th>NU_NOTA_REDACAO</th>\n",
              "      <th>NU_NOTA_TOTAL</th>\n",
              "    </tr>\n",
              "  </thead>\n",
              "  <tbody>\n",
              "    <tr>\n",
              "      <th>0</th>\n",
              "      <td>512.6</td>\n",
              "      <td>564.6</td>\n",
              "      <td>626.4</td>\n",
              "      <td>533.4</td>\n",
              "      <td>860.0</td>\n",
              "      <td>619.40</td>\n",
              "    </tr>\n",
              "    <tr>\n",
              "      <th>4</th>\n",
              "      <td>621.0</td>\n",
              "      <td>654.4</td>\n",
              "      <td>726.8</td>\n",
              "      <td>595.8</td>\n",
              "      <td>800.0</td>\n",
              "      <td>679.60</td>\n",
              "    </tr>\n",
              "    <tr>\n",
              "      <th>6</th>\n",
              "      <td>469.8</td>\n",
              "      <td>575.4</td>\n",
              "      <td>412.3</td>\n",
              "      <td>525.8</td>\n",
              "      <td>600.0</td>\n",
              "      <td>516.66</td>\n",
              "    </tr>\n",
              "    <tr>\n",
              "      <th>7</th>\n",
              "      <td>353.0</td>\n",
              "      <td>507.3</td>\n",
              "      <td>610.6</td>\n",
              "      <td>536.2</td>\n",
              "      <td>740.0</td>\n",
              "      <td>549.42</td>\n",
              "    </tr>\n",
              "    <tr>\n",
              "      <th>9</th>\n",
              "      <td>505.2</td>\n",
              "      <td>566.5</td>\n",
              "      <td>579.2</td>\n",
              "      <td>572.5</td>\n",
              "      <td>560.0</td>\n",
              "      <td>556.68</td>\n",
              "    </tr>\n",
              "  </tbody>\n",
              "</table>\n",
              "</div>"
            ],
            "text/plain": [
              "   NU_NOTA_CN  NU_NOTA_CH  ...  NU_NOTA_REDACAO  NU_NOTA_TOTAL\n",
              "0       512.6       564.6  ...            860.0         619.40\n",
              "4       621.0       654.4  ...            800.0         679.60\n",
              "6       469.8       575.4  ...            600.0         516.66\n",
              "7       353.0       507.3  ...            740.0         549.42\n",
              "9       505.2       566.5  ...            560.0         556.68\n",
              "\n",
              "[5 rows x 6 columns]"
            ]
          },
          "metadata": {
            "tags": []
          },
          "execution_count": 174
        }
      ]
    },
    {
      "cell_type": "code",
      "metadata": {
        "id": "Eqs666Kkd1R2",
        "outputId": "909ef4ae-db6a-4797-aae3-2577e21299b4",
        "colab": {
          "base_uri": "https://localhost:8080/",
          "height": 514
        }
      },
      "source": [
        "rendaOrdenada = dados['Q006'].unique()\n",
        "rendaOrdenada.sort()\n",
        "plt.figure(figsize=(8,8))\n",
        "sns.boxplot(x='Q006', y='NU_NOTA_TOTAL', data= dados, order= rendaOrdenada)\n",
        "plt.xlabel('Renda')\n",
        "plt.ylabel('Nota Total')"
      ],
      "execution_count": null,
      "outputs": [
        {
          "output_type": "execute_result",
          "data": {
            "text/plain": [
              "Text(0, 0.5, 'Nota Total')"
            ]
          },
          "metadata": {
            "tags": []
          },
          "execution_count": 175
        },
        {
          "output_type": "display_data",
          "data": {
            "image/png": "[encoded data removed]",
            "text/plain": [
              "<Figure size 576x576 with 1 Axes>"
            ]
          },
          "metadata": {
            "tags": [],
            "needs_background": "light"
          }
        }
      ]
    },
    {
      "cell_type": "code",
      "metadata": {
        "id": "w7BQ_P60d1SE",
        "outputId": "f6887fc5-aa4f-4efc-f75d-ae556749a762",
        "colab": {
          "base_uri": "https://localhost:8080/",
          "height": 351
        }
      },
      "source": [
        "sns.distplot(dados[\"NU_NOTA_TOTAL\"])\n",
        "plt.xlim(0,1000)"
      ],
      "execution_count": null,
      "outputs": [
        {
          "output_type": "stream",
          "text": [
            "/usr/local/lib/python3.6/dist-packages/seaborn/distributions.py:2551: FutureWarning: `distplot` is a deprecated function and will be removed in a future version. Please adapt your code to use either `displot` (a figure-level function with similar flexibility) or `histplot` (an axes-level function for histograms).\n",
            "  warnings.warn(msg, FutureWarning)\n"
          ],
          "name": "stderr"
        },
        {
          "output_type": "execute_result",
          "data": {
            "text/plain": [
              "(0.0, 1000.0)"
            ]
          },
          "metadata": {
            "tags": []
          },
          "execution_count": 176
        },
        {
          "output_type": "display_data",
          "data": {
            "image/png": "[encoded data removed]",
            "text/plain": [
              "<Figure size 432x288 with 1 Axes>"
            ]
          },
          "metadata": {
            "tags": [],
            "needs_background": "light"
          }
        }
      ]
    },
    {
      "cell_type": "code",
      "metadata": {
        "id": "8tUTvAqthT1z",
        "outputId": "2be4d6e5-97d8-4ede-884d-05fc9aa4d8ef",
        "colab": {
          "base_uri": "https://localhost:8080/",
          "height": 377
        }
      },
      "source": [
        "#correlção das notas por materia \n",
        "correlacao = dados[notas].corr()\n",
        "sns.heatmap(correlacao, cmap=\"Blues\", annot=True )"
      ],
      "execution_count": null,
      "outputs": [
        {
          "output_type": "execute_result",
          "data": {
            "text/plain": [
              "<matplotlib.axes._subplots.AxesSubplot at 0x7f5cee725cc0>"
            ]
          },
          "metadata": {
            "tags": []
          },
          "execution_count": 177
        },
        {
          "output_type": "display_data",
          "data": {
            "image/png": "[encoded data removed]",
            "text/plain": [
              "<Figure size 432x288 with 2 Axes>"
            ]
          },
          "metadata": {
            "tags": [],
            "needs_background": "light"
          }
        }
      ]
    },
    {
      "cell_type": "code",
      "metadata": {
        "id": "t94Y9iyOd1RF",
        "outputId": "63118883-e5c1-41eb-9881-1b8baa4599a2",
        "colab": {
          "base_uri": "https://localhost:8080/"
        }
      },
      "source": [
        "#calculando o numero munipios unicos\n",
        "len(dados['NO_MUNICIPIO_RESIDENCIA'].unique())\n",
        "#Tem registro de todas as cidades de MG"
      ],
      "execution_count": null,
      "outputs": [
        {
          "output_type": "execute_result",
          "data": {
            "text/plain": [
              "853"
            ]
          },
          "metadata": {
            "tags": []
          },
          "execution_count": 178
        }
      ]
    },
    {
      "cell_type": "code",
      "metadata": {
        "id": "ZxNA7QH4d1RN",
        "outputId": "1dbe8797-3dce-42eb-84c5-b5d0eb9ed9ca",
        "colab": {
          "base_uri": "https://localhost:8080/"
        }
      },
      "source": [
        "#ordenação de registros por cidade\n",
        "dados['NO_MUNICIPIO_RESIDENCIA'].value_counts()"
      ],
      "execution_count": null,
      "outputs": [
        {
          "output_type": "execute_result",
          "data": {
            "text/plain": [
              "Belo Horizonte      48144\n",
              "Uberlândia          12581\n",
              "Contagem            11268\n",
              "Montes Claros       11088\n",
              "Juiz de Fora        10033\n",
              "                    ...  \n",
              "Consolação             16\n",
              "Comendador Gomes       16\n",
              "Claraval               14\n",
              "Serra da Saudade        7\n",
              "Água Comprida           7\n",
              "Name: NO_MUNICIPIO_RESIDENCIA, Length: 853, dtype: int64"
            ]
          },
          "metadata": {
            "tags": []
          },
          "execution_count": 179
        }
      ]
    },
    {
      "cell_type": "markdown",
      "metadata": {
        "id": "1vJxQEQuLwAt"
      },
      "source": [
        "# IFDM MG"
      ]
    },
    {
      "cell_type": "code",
      "metadata": {
        "id": "_-hKUf0eL0bo",
        "outputId": "93524fa4-1cd9-46c6-92ed-7713d5ef76f8",
        "colab": {
          "base_uri": "https://localhost:8080/"
        }
      },
      "source": [
        "#dados do IFDM 2016 de Minas Gerais\n",
        "ifdm = pd.read_csv('IFDM2016.csv',';')\n",
        "ifdm.shape"
      ],
      "execution_count": null,
      "outputs": [
        {
          "output_type": "execute_result",
          "data": {
            "text/plain": [
              "(853, 6)"
            ]
          },
          "metadata": {
            "tags": []
          },
          "execution_count": 180
        }
      ]
    },
    {
      "cell_type": "code",
      "metadata": {
        "id": "Ly1eckT_L_5R"
      },
      "source": [
        "#A escala de IFDM vai de 0 a 1, multipliquei por 1000 para conseguir manipular mais facilmente \n",
        "ifdm['IFDM'] = ifdm['IFDM'].astype(float)\n",
        "ifdm['IFDM'] = ifdm['IFDM']*1000\n",
        "ifdm['Emprego & Renda'] = ifdm['Emprego & Renda'].astype(float)\n",
        "ifdm['Emprego & Renda'] = ifdm['Emprego & Renda']*1000\n",
        "ifdm['Educação'] = ifdm['Educação'].astype(float)\n",
        "ifdm['Educação'] = ifdm['Educação']*1000\n",
        "ifdm['Saúde'] = ifdm['Saúde'].astype(float)\n",
        "ifdm['Saúde'] = ifdm['Saúde']*1000"
      ],
      "execution_count": null,
      "outputs": []
    },
    {
      "cell_type": "code",
      "metadata": {
        "id": "PXY_qWtNMG5R",
        "outputId": "20c67fa3-fafa-449d-dec3-fb177d051ded",
        "colab": {
          "base_uri": "https://localhost:8080/",
          "height": 284
        }
      },
      "source": [
        "ifdm.describe()"
      ],
      "execution_count": null,
      "outputs": [
        {
          "output_type": "execute_result",
          "data": {
            "text/html": [
              "<div>\n",
              "<style scoped>\n",
              "    .dataframe tbody tr th:only-of-type {\n",
              "        vertical-align: middle;\n",
              "    }\n",
              "\n",
              "    .dataframe tbody tr th {\n",
              "        vertical-align: top;\n",
              "    }\n",
              "\n",
              "    .dataframe thead th {\n",
              "        text-align: right;\n",
              "    }\n",
              "</style>\n",
              "<table border=\"1\" class=\"dataframe\">\n",
              "  <thead>\n",
              "    <tr style=\"text-align: right;\">\n",
              "      <th></th>\n",
              "      <th>Ranking Educação</th>\n",
              "      <th>IFDM</th>\n",
              "      <th>Emprego &amp; Renda</th>\n",
              "      <th>Educação</th>\n",
              "      <th>Saúde</th>\n",
              "    </tr>\n",
              "  </thead>\n",
              "  <tbody>\n",
              "    <tr>\n",
              "      <th>count</th>\n",
              "      <td>853.000000</td>\n",
              "      <td>842.000000</td>\n",
              "      <td>842.000000</td>\n",
              "      <td>853.000000</td>\n",
              "      <td>853.000000</td>\n",
              "    </tr>\n",
              "    <tr>\n",
              "      <th>mean</th>\n",
              "      <td>427.000000</td>\n",
              "      <td>677.761164</td>\n",
              "      <td>447.089311</td>\n",
              "      <td>813.414068</td>\n",
              "      <td>772.605979</td>\n",
              "    </tr>\n",
              "    <tr>\n",
              "      <th>std</th>\n",
              "      <td>246.384185</td>\n",
              "      <td>67.543406</td>\n",
              "      <td>110.401436</td>\n",
              "      <td>52.915089</td>\n",
              "      <td>109.147216</td>\n",
              "    </tr>\n",
              "    <tr>\n",
              "      <th>min</th>\n",
              "      <td>1.000000</td>\n",
              "      <td>456.800000</td>\n",
              "      <td>190.600000</td>\n",
              "      <td>602.500000</td>\n",
              "      <td>356.900000</td>\n",
              "    </tr>\n",
              "    <tr>\n",
              "      <th>25%</th>\n",
              "      <td>214.000000</td>\n",
              "      <td>634.525000</td>\n",
              "      <td>364.325000</td>\n",
              "      <td>778.100000</td>\n",
              "      <td>707.300000</td>\n",
              "    </tr>\n",
              "    <tr>\n",
              "      <th>50%</th>\n",
              "      <td>427.000000</td>\n",
              "      <td>678.100000</td>\n",
              "      <td>442.200000</td>\n",
              "      <td>816.000000</td>\n",
              "      <td>793.500000</td>\n",
              "    </tr>\n",
              "    <tr>\n",
              "      <th>75%</th>\n",
              "      <td>640.000000</td>\n",
              "      <td>721.725000</td>\n",
              "      <td>515.275000</td>\n",
              "      <td>852.400000</td>\n",
              "      <td>853.500000</td>\n",
              "    </tr>\n",
              "    <tr>\n",
              "      <th>max</th>\n",
              "      <td>853.000000</td>\n",
              "      <td>858.600000</td>\n",
              "      <td>795.500000</td>\n",
              "      <td>979.900000</td>\n",
              "      <td>972.300000</td>\n",
              "    </tr>\n",
              "  </tbody>\n",
              "</table>\n",
              "</div>"
            ],
            "text/plain": [
              "       Ranking Educação        IFDM  Emprego & Renda    Educação       Saúde\n",
              "count        853.000000  842.000000       842.000000  853.000000  853.000000\n",
              "mean         427.000000  677.761164       447.089311  813.414068  772.605979\n",
              "std          246.384185   67.543406       110.401436   52.915089  109.147216\n",
              "min            1.000000  456.800000       190.600000  602.500000  356.900000\n",
              "25%          214.000000  634.525000       364.325000  778.100000  707.300000\n",
              "50%          427.000000  678.100000       442.200000  816.000000  793.500000\n",
              "75%          640.000000  721.725000       515.275000  852.400000  853.500000\n",
              "max          853.000000  858.600000       795.500000  979.900000  972.300000"
            ]
          },
          "metadata": {
            "tags": []
          },
          "execution_count": 182
        }
      ]
    },
    {
      "cell_type": "code",
      "metadata": {
        "id": "rUBDqSI7MBru",
        "outputId": "ad8f6a8e-8438-4658-d354-64527a657f8b",
        "colab": {
          "base_uri": "https://localhost:8080/",
          "height": 353
        }
      },
      "source": [
        "#Gráfico de recorrencia de IFDM\n",
        "sns.distplot(ifdm['IFDM'])\n",
        "plt.xlim(0,1000)"
      ],
      "execution_count": null,
      "outputs": [
        {
          "output_type": "stream",
          "text": [
            "/usr/local/lib/python3.6/dist-packages/seaborn/distributions.py:2551: FutureWarning: `distplot` is a deprecated function and will be removed in a future version. Please adapt your code to use either `displot` (a figure-level function with similar flexibility) or `histplot` (an axes-level function for histograms).\n",
            "  warnings.warn(msg, FutureWarning)\n"
          ],
          "name": "stderr"
        },
        {
          "output_type": "execute_result",
          "data": {
            "text/plain": [
              "(0.0, 1000.0)"
            ]
          },
          "metadata": {
            "tags": []
          },
          "execution_count": 183
        },
        {
          "output_type": "display_data",
          "data": {
            "image/png": "[encoded data removed]",
            "text/plain": [
              "<Figure size 432x288 with 1 Axes>"
            ]
          },
          "metadata": {
            "tags": [],
            "needs_background": "light"
          }
        }
      ]
    },
    {
      "cell_type": "code",
      "metadata": {
        "id": "wkHffBhQMEKo",
        "outputId": "c1dbbe06-376c-4576-db16-8ac75dff1b4b",
        "colab": {
          "base_uri": "https://localhost:8080/",
          "height": 350
        }
      },
      "source": [
        "#Gráfico de recorrencia de IFDM de Educação\n",
        "sns.distplot(ifdm['Educação'])\n",
        "plt.xlim(0,1000)"
      ],
      "execution_count": null,
      "outputs": [
        {
          "output_type": "stream",
          "text": [
            "/usr/local/lib/python3.6/dist-packages/seaborn/distributions.py:2551: FutureWarning: `distplot` is a deprecated function and will be removed in a future version. Please adapt your code to use either `displot` (a figure-level function with similar flexibility) or `histplot` (an axes-level function for histograms).\n",
            "  warnings.warn(msg, FutureWarning)\n"
          ],
          "name": "stderr"
        },
        {
          "output_type": "execute_result",
          "data": {
            "text/plain": [
              "(0.0, 1000.0)"
            ]
          },
          "metadata": {
            "tags": []
          },
          "execution_count": 184
        },
        {
          "output_type": "display_data",
          "data": {
            "image/png": "[encoded data removed]",
            "text/plain": [
              "<Figure size 432x288 with 1 Axes>"
            ]
          },
          "metadata": {
            "tags": [],
            "needs_background": "light"
          }
        }
      ]
    },
    {
      "cell_type": "code",
      "metadata": {
        "id": "6ux7JHcVMFn_",
        "outputId": "0d68862e-02c4-499c-d3df-faf6349d304a",
        "colab": {
          "base_uri": "https://localhost:8080/",
          "height": 366
        }
      },
      "source": [
        "#Mapa de calor da correlação das catergorias do IFDM\n",
        "criterios = ['IFDM','Emprego & Renda',\t'Educação',\t'Saúde']\n",
        "correlacao = ifdm[criterios].corr()\n",
        "sns.heatmap(correlacao, cmap=\"Blues\", annot=True )"
      ],
      "execution_count": null,
      "outputs": [
        {
          "output_type": "execute_result",
          "data": {
            "text/plain": [
              "<matplotlib.axes._subplots.AxesSubplot at 0x7f5cee761780>"
            ]
          },
          "metadata": {
            "tags": []
          },
          "execution_count": 185
        },
        {
          "output_type": "display_data",
          "data": {
            "image/png": "[encoded data removed]",
            "text/plain": [
              "<Figure size 432x288 with 2 Axes>"
            ]
          },
          "metadata": {
            "tags": [],
            "needs_background": "light"
          }
        }
      ]
    },
    {
      "cell_type": "markdown",
      "metadata": {
        "id": "qDMV0HdFNuxp"
      },
      "source": [
        "# Correlação"
      ]
    },
    {
      "cell_type": "code",
      "metadata": {
        "id": "9p8_Xr8FiXGr",
        "outputId": "4b23696f-d55a-4e3d-bb07-6a98402b5a58",
        "colab": {
          "base_uri": "https://localhost:8080/",
          "height": 422
        }
      },
      "source": [
        "dadosRecortado = pd.read_csv('mgRecortado.csv', ';')\n",
        "dadosRecortado"
      ],
      "execution_count": null,
      "outputs": [
        {
          "output_type": "execute_result",
          "data": {
            "text/html": [
              "<div>\n",
              "<style scoped>\n",
              "    .dataframe tbody tr th:only-of-type {\n",
              "        vertical-align: middle;\n",
              "    }\n",
              "\n",
              "    .dataframe tbody tr th {\n",
              "        vertical-align: top;\n",
              "    }\n",
              "\n",
              "    .dataframe thead th {\n",
              "        text-align: right;\n",
              "    }\n",
              "</style>\n",
              "<table border=\"1\" class=\"dataframe\">\n",
              "  <thead>\n",
              "    <tr style=\"text-align: right;\">\n",
              "      <th></th>\n",
              "      <th>NO_MUNICIPIO_RESIDENCIA</th>\n",
              "      <th>NU_NOTA_CN</th>\n",
              "      <th>NU_NOTA_CH</th>\n",
              "      <th>NU_NOTA_LC</th>\n",
              "      <th>NU_NOTA_MT</th>\n",
              "      <th>NU_NOTA_REDACAO</th>\n",
              "      <th>IN_TREINEIRO</th>\n",
              "    </tr>\n",
              "  </thead>\n",
              "  <tbody>\n",
              "    <tr>\n",
              "      <th>0</th>\n",
              "      <td>Uberlândia</td>\n",
              "      <td>512.6</td>\n",
              "      <td>564.6</td>\n",
              "      <td>533.4</td>\n",
              "      <td>626.4</td>\n",
              "      <td>860.0</td>\n",
              "      <td>0</td>\n",
              "    </tr>\n",
              "    <tr>\n",
              "      <th>1</th>\n",
              "      <td>Canaã</td>\n",
              "      <td>NaN</td>\n",
              "      <td>NaN</td>\n",
              "      <td>NaN</td>\n",
              "      <td>NaN</td>\n",
              "      <td>NaN</td>\n",
              "      <td>0</td>\n",
              "    </tr>\n",
              "    <tr>\n",
              "      <th>2</th>\n",
              "      <td>Araxá</td>\n",
              "      <td>NaN</td>\n",
              "      <td>NaN</td>\n",
              "      <td>NaN</td>\n",
              "      <td>NaN</td>\n",
              "      <td>NaN</td>\n",
              "      <td>0</td>\n",
              "    </tr>\n",
              "    <tr>\n",
              "      <th>3</th>\n",
              "      <td>Belo Horizonte</td>\n",
              "      <td>NaN</td>\n",
              "      <td>NaN</td>\n",
              "      <td>NaN</td>\n",
              "      <td>NaN</td>\n",
              "      <td>NaN</td>\n",
              "      <td>0</td>\n",
              "    </tr>\n",
              "    <tr>\n",
              "      <th>4</th>\n",
              "      <td>São João da Ponte</td>\n",
              "      <td>621.0</td>\n",
              "      <td>654.4</td>\n",
              "      <td>595.8</td>\n",
              "      <td>726.8</td>\n",
              "      <td>800.0</td>\n",
              "      <td>0</td>\n",
              "    </tr>\n",
              "    <tr>\n",
              "      <th>...</th>\n",
              "      <td>...</td>\n",
              "      <td>...</td>\n",
              "      <td>...</td>\n",
              "      <td>...</td>\n",
              "      <td>...</td>\n",
              "      <td>...</td>\n",
              "      <td>...</td>\n",
              "    </tr>\n",
              "    <tr>\n",
              "      <th>538891</th>\n",
              "      <td>Uberaba</td>\n",
              "      <td>453.6</td>\n",
              "      <td>446.2</td>\n",
              "      <td>446.9</td>\n",
              "      <td>467.9</td>\n",
              "      <td>260.0</td>\n",
              "      <td>0</td>\n",
              "    </tr>\n",
              "    <tr>\n",
              "      <th>538892</th>\n",
              "      <td>São João do Paraíso</td>\n",
              "      <td>527.6</td>\n",
              "      <td>534.4</td>\n",
              "      <td>543.3</td>\n",
              "      <td>537.9</td>\n",
              "      <td>600.0</td>\n",
              "      <td>0</td>\n",
              "    </tr>\n",
              "    <tr>\n",
              "      <th>538893</th>\n",
              "      <td>Capinópolis</td>\n",
              "      <td>473.7</td>\n",
              "      <td>380.7</td>\n",
              "      <td>499.6</td>\n",
              "      <td>369.3</td>\n",
              "      <td>560.0</td>\n",
              "      <td>0</td>\n",
              "    </tr>\n",
              "    <tr>\n",
              "      <th>538894</th>\n",
              "      <td>Ribeirão das Neves</td>\n",
              "      <td>464.4</td>\n",
              "      <td>415.8</td>\n",
              "      <td>510.5</td>\n",
              "      <td>473.0</td>\n",
              "      <td>480.0</td>\n",
              "      <td>0</td>\n",
              "    </tr>\n",
              "    <tr>\n",
              "      <th>538895</th>\n",
              "      <td>Betim</td>\n",
              "      <td>NaN</td>\n",
              "      <td>NaN</td>\n",
              "      <td>NaN</td>\n",
              "      <td>NaN</td>\n",
              "      <td>NaN</td>\n",
              "      <td>0</td>\n",
              "    </tr>\n",
              "  </tbody>\n",
              "</table>\n",
              "<p>538896 rows × 7 columns</p>\n",
              "</div>"
            ],
            "text/plain": [
              "       NO_MUNICIPIO_RESIDENCIA  NU_NOTA_CN  ...  NU_NOTA_REDACAO  IN_TREINEIRO\n",
              "0                   Uberlândia       512.6  ...            860.0             0\n",
              "1                        Canaã         NaN  ...              NaN             0\n",
              "2                        Araxá         NaN  ...              NaN             0\n",
              "3               Belo Horizonte         NaN  ...              NaN             0\n",
              "4            São João da Ponte       621.0  ...            800.0             0\n",
              "...                        ...         ...  ...              ...           ...\n",
              "538891                 Uberaba       453.6  ...            260.0             0\n",
              "538892     São João do Paraíso       527.6  ...            600.0             0\n",
              "538893             Capinópolis       473.7  ...            560.0             0\n",
              "538894      Ribeirão das Neves       464.4  ...            480.0             0\n",
              "538895                   Betim         NaN  ...              NaN             0\n",
              "\n",
              "[538896 rows x 7 columns]"
            ]
          },
          "metadata": {
            "tags": []
          },
          "execution_count": 186
        }
      ]
    },
    {
      "cell_type": "code",
      "metadata": {
        "id": "TMrLAN0hiknD",
        "outputId": "1a6d9da7-6102-4455-a245-a822a6cc7dc1",
        "colab": {
          "base_uri": "https://localhost:8080/",
          "height": 402
        }
      },
      "source": [
        "dadosRecortado = dadosRecortado.query('NU_NOTA_CN > 0')\n",
        "dadosRecortado = dadosRecortado.query('NU_NOTA_CH > 0')\n",
        "dadosRecortado = dadosRecortado.query('NU_NOTA_MT > 0')\n",
        "dadosRecortado = dadosRecortado.query('NU_NOTA_LC > 0')\n",
        "dadosRecortado = dadosRecortado.query('NU_NOTA_REDACAO > 0')\n",
        "dadosRecortado = dadosRecortado.query('IN_TREINEIRO == 0')\n",
        "notas = ['NU_NOTA_CN','NU_NOTA_CH','NU_NOTA_MT','NU_NOTA_LC','NU_NOTA_REDACAO']\n",
        "dadosRecortado['NU_NOTA_TOTAL'] = dados[notas].sum(axis=1)/5\n",
        "dadosRecortado = dadosRecortado.drop(columns=['NU_NOTA_CN'])\n",
        "dadosRecortado = dadosRecortado.drop(columns=['NU_NOTA_LC'])\n",
        "dadosRecortado = dadosRecortado.drop(columns=['NU_NOTA_MT'])\n",
        "dadosRecortado = dadosRecortado.drop(columns=['NU_NOTA_CH'])\n",
        "dadosRecortado = dadosRecortado.drop(columns=['NU_NOTA_REDACAO'])\n",
        "dadosRecortado = dadosRecortado.drop(columns=['IN_TREINEIRO'])\n",
        "dadosRecortado"
      ],
      "execution_count": null,
      "outputs": [
        {
          "output_type": "execute_result",
          "data": {
            "text/html": [
              "<div>\n",
              "<style scoped>\n",
              "    .dataframe tbody tr th:only-of-type {\n",
              "        vertical-align: middle;\n",
              "    }\n",
              "\n",
              "    .dataframe tbody tr th {\n",
              "        vertical-align: top;\n",
              "    }\n",
              "\n",
              "    .dataframe thead th {\n",
              "        text-align: right;\n",
              "    }\n",
              "</style>\n",
              "<table border=\"1\" class=\"dataframe\">\n",
              "  <thead>\n",
              "    <tr style=\"text-align: right;\">\n",
              "      <th></th>\n",
              "      <th>NO_MUNICIPIO_RESIDENCIA</th>\n",
              "      <th>NU_NOTA_TOTAL</th>\n",
              "    </tr>\n",
              "  </thead>\n",
              "  <tbody>\n",
              "    <tr>\n",
              "      <th>0</th>\n",
              "      <td>Uberlândia</td>\n",
              "      <td>619.40</td>\n",
              "    </tr>\n",
              "    <tr>\n",
              "      <th>4</th>\n",
              "      <td>São João da Ponte</td>\n",
              "      <td>679.60</td>\n",
              "    </tr>\n",
              "    <tr>\n",
              "      <th>6</th>\n",
              "      <td>Três Corações</td>\n",
              "      <td>516.66</td>\n",
              "    </tr>\n",
              "    <tr>\n",
              "      <th>7</th>\n",
              "      <td>Betim</td>\n",
              "      <td>549.42</td>\n",
              "    </tr>\n",
              "    <tr>\n",
              "      <th>9</th>\n",
              "      <td>Três Corações</td>\n",
              "      <td>556.68</td>\n",
              "    </tr>\n",
              "    <tr>\n",
              "      <th>...</th>\n",
              "      <td>...</td>\n",
              "      <td>...</td>\n",
              "    </tr>\n",
              "    <tr>\n",
              "      <th>538890</th>\n",
              "      <td>Ibirité</td>\n",
              "      <td>539.02</td>\n",
              "    </tr>\n",
              "    <tr>\n",
              "      <th>538891</th>\n",
              "      <td>Uberaba</td>\n",
              "      <td>414.92</td>\n",
              "    </tr>\n",
              "    <tr>\n",
              "      <th>538892</th>\n",
              "      <td>São João do Paraíso</td>\n",
              "      <td>548.64</td>\n",
              "    </tr>\n",
              "    <tr>\n",
              "      <th>538893</th>\n",
              "      <td>Capinópolis</td>\n",
              "      <td>456.66</td>\n",
              "    </tr>\n",
              "    <tr>\n",
              "      <th>538894</th>\n",
              "      <td>Ribeirão das Neves</td>\n",
              "      <td>468.74</td>\n",
              "    </tr>\n",
              "  </tbody>\n",
              "</table>\n",
              "<p>325462 rows × 2 columns</p>\n",
              "</div>"
            ],
            "text/plain": [
              "       NO_MUNICIPIO_RESIDENCIA  NU_NOTA_TOTAL\n",
              "0                   Uberlândia         619.40\n",
              "4            São João da Ponte         679.60\n",
              "6                Três Corações         516.66\n",
              "7                        Betim         549.42\n",
              "9                Três Corações         556.68\n",
              "...                        ...            ...\n",
              "538890                 Ibirité         539.02\n",
              "538891                 Uberaba         414.92\n",
              "538892     São João do Paraíso         548.64\n",
              "538893             Capinópolis         456.66\n",
              "538894      Ribeirão das Neves         468.74\n",
              "\n",
              "[325462 rows x 2 columns]"
            ]
          },
          "metadata": {
            "tags": []
          },
          "execution_count": 187
        }
      ]
    },
    {
      "cell_type": "code",
      "metadata": {
        "id": "o4th7F5AkNvq",
        "outputId": "09077469-0b33-4419-b93f-205426319100",
        "colab": {
          "base_uri": "https://localhost:8080/",
          "height": 402
        }
      },
      "source": [
        "dadosRecortado['NU_NOTA_TOTAL'] = pd.to_numeric(dadosRecortado['NU_NOTA_TOTAL'])\n",
        "dadosRecortado"
      ],
      "execution_count": null,
      "outputs": [
        {
          "output_type": "execute_result",
          "data": {
            "text/html": [
              "<div>\n",
              "<style scoped>\n",
              "    .dataframe tbody tr th:only-of-type {\n",
              "        vertical-align: middle;\n",
              "    }\n",
              "\n",
              "    .dataframe tbody tr th {\n",
              "        vertical-align: top;\n",
              "    }\n",
              "\n",
              "    .dataframe thead th {\n",
              "        text-align: right;\n",
              "    }\n",
              "</style>\n",
              "<table border=\"1\" class=\"dataframe\">\n",
              "  <thead>\n",
              "    <tr style=\"text-align: right;\">\n",
              "      <th></th>\n",
              "      <th>NO_MUNICIPIO_RESIDENCIA</th>\n",
              "      <th>NU_NOTA_TOTAL</th>\n",
              "    </tr>\n",
              "  </thead>\n",
              "  <tbody>\n",
              "    <tr>\n",
              "      <th>0</th>\n",
              "      <td>Uberlândia</td>\n",
              "      <td>619.40</td>\n",
              "    </tr>\n",
              "    <tr>\n",
              "      <th>4</th>\n",
              "      <td>São João da Ponte</td>\n",
              "      <td>679.60</td>\n",
              "    </tr>\n",
              "    <tr>\n",
              "      <th>6</th>\n",
              "      <td>Três Corações</td>\n",
              "      <td>516.66</td>\n",
              "    </tr>\n",
              "    <tr>\n",
              "      <th>7</th>\n",
              "      <td>Betim</td>\n",
              "      <td>549.42</td>\n",
              "    </tr>\n",
              "    <tr>\n",
              "      <th>9</th>\n",
              "      <td>Três Corações</td>\n",
              "      <td>556.68</td>\n",
              "    </tr>\n",
              "    <tr>\n",
              "      <th>...</th>\n",
              "      <td>...</td>\n",
              "      <td>...</td>\n",
              "    </tr>\n",
              "    <tr>\n",
              "      <th>538890</th>\n",
              "      <td>Ibirité</td>\n",
              "      <td>539.02</td>\n",
              "    </tr>\n",
              "    <tr>\n",
              "      <th>538891</th>\n",
              "      <td>Uberaba</td>\n",
              "      <td>414.92</td>\n",
              "    </tr>\n",
              "    <tr>\n",
              "      <th>538892</th>\n",
              "      <td>São João do Paraíso</td>\n",
              "      <td>548.64</td>\n",
              "    </tr>\n",
              "    <tr>\n",
              "      <th>538893</th>\n",
              "      <td>Capinópolis</td>\n",
              "      <td>456.66</td>\n",
              "    </tr>\n",
              "    <tr>\n",
              "      <th>538894</th>\n",
              "      <td>Ribeirão das Neves</td>\n",
              "      <td>468.74</td>\n",
              "    </tr>\n",
              "  </tbody>\n",
              "</table>\n",
              "<p>325462 rows × 2 columns</p>\n",
              "</div>"
            ],
            "text/plain": [
              "       NO_MUNICIPIO_RESIDENCIA  NU_NOTA_TOTAL\n",
              "0                   Uberlândia         619.40\n",
              "4            São João da Ponte         679.60\n",
              "6                Três Corações         516.66\n",
              "7                        Betim         549.42\n",
              "9                Três Corações         556.68\n",
              "...                        ...            ...\n",
              "538890                 Ibirité         539.02\n",
              "538891                 Uberaba         414.92\n",
              "538892     São João do Paraíso         548.64\n",
              "538893             Capinópolis         456.66\n",
              "538894      Ribeirão das Neves         468.74\n",
              "\n",
              "[325462 rows x 2 columns]"
            ]
          },
          "metadata": {
            "tags": []
          },
          "execution_count": 188
        }
      ]
    },
    {
      "cell_type": "code",
      "metadata": {
        "id": "PHF6H__51Xfk",
        "outputId": "5c7b03d7-ab3b-47b0-d6d9-33773b730a14",
        "colab": {
          "base_uri": "https://localhost:8080/",
          "height": 431
        }
      },
      "source": [
        "listaMun = dadosRecortado.sort_values(['NO_MUNICIPIO_RESIDENCIA'])\n",
        "listaMun = dadosRecortado.groupby(['NO_MUNICIPIO_RESIDENCIA']).mean()\n",
        "listaMun"
      ],
      "execution_count": null,
      "outputs": [
        {
          "output_type": "execute_result",
          "data": {
            "text/html": [
              "<div>\n",
              "<style scoped>\n",
              "    .dataframe tbody tr th:only-of-type {\n",
              "        vertical-align: middle;\n",
              "    }\n",
              "\n",
              "    .dataframe tbody tr th {\n",
              "        vertical-align: top;\n",
              "    }\n",
              "\n",
              "    .dataframe thead th {\n",
              "        text-align: right;\n",
              "    }\n",
              "</style>\n",
              "<table border=\"1\" class=\"dataframe\">\n",
              "  <thead>\n",
              "    <tr style=\"text-align: right;\">\n",
              "      <th></th>\n",
              "      <th>NU_NOTA_TOTAL</th>\n",
              "    </tr>\n",
              "    <tr>\n",
              "      <th>NO_MUNICIPIO_RESIDENCIA</th>\n",
              "      <th></th>\n",
              "    </tr>\n",
              "  </thead>\n",
              "  <tbody>\n",
              "    <tr>\n",
              "      <th>Abadia dos Dourados</th>\n",
              "      <td>534.788941</td>\n",
              "    </tr>\n",
              "    <tr>\n",
              "      <th>Abaeté</th>\n",
              "      <td>547.275935</td>\n",
              "    </tr>\n",
              "    <tr>\n",
              "      <th>Abre Campo</th>\n",
              "      <td>533.738023</td>\n",
              "    </tr>\n",
              "    <tr>\n",
              "      <th>Acaiaca</th>\n",
              "      <td>488.947660</td>\n",
              "    </tr>\n",
              "    <tr>\n",
              "      <th>Aguanil</th>\n",
              "      <td>528.066800</td>\n",
              "    </tr>\n",
              "    <tr>\n",
              "      <th>...</th>\n",
              "      <td>...</td>\n",
              "    </tr>\n",
              "    <tr>\n",
              "      <th>Wenceslau Braz</th>\n",
              "      <td>555.699444</td>\n",
              "    </tr>\n",
              "    <tr>\n",
              "      <th>Água Boa</th>\n",
              "      <td>531.717187</td>\n",
              "    </tr>\n",
              "    <tr>\n",
              "      <th>Água Comprida</th>\n",
              "      <td>531.040000</td>\n",
              "    </tr>\n",
              "    <tr>\n",
              "      <th>Águas Formosas</th>\n",
              "      <td>516.827589</td>\n",
              "    </tr>\n",
              "    <tr>\n",
              "      <th>Águas Vermelhas</th>\n",
              "      <td>511.371842</td>\n",
              "    </tr>\n",
              "  </tbody>\n",
              "</table>\n",
              "<p>853 rows × 1 columns</p>\n",
              "</div>"
            ],
            "text/plain": [
              "                         NU_NOTA_TOTAL\n",
              "NO_MUNICIPIO_RESIDENCIA               \n",
              "Abadia dos Dourados         534.788941\n",
              "Abaeté                      547.275935\n",
              "Abre Campo                  533.738023\n",
              "Acaiaca                     488.947660\n",
              "Aguanil                     528.066800\n",
              "...                                ...\n",
              "Wenceslau Braz              555.699444\n",
              "Água Boa                    531.717187\n",
              "Água Comprida               531.040000\n",
              "Águas Formosas              516.827589\n",
              "Águas Vermelhas             511.371842\n",
              "\n",
              "[853 rows x 1 columns]"
            ]
          },
          "metadata": {
            "tags": []
          },
          "execution_count": 189
        }
      ]
    },
    {
      "cell_type": "code",
      "metadata": {
        "id": "Xw1kI6BVw_fF",
        "outputId": "d9844419-7218-4185-994d-189ca29c28b1",
        "colab": {
          "base_uri": "https://localhost:8080/",
          "height": 402
        }
      },
      "source": [
        "ifdm"
      ],
      "execution_count": null,
      "outputs": [
        {
          "output_type": "execute_result",
          "data": {
            "text/html": [
              "<div>\n",
              "<style scoped>\n",
              "    .dataframe tbody tr th:only-of-type {\n",
              "        vertical-align: middle;\n",
              "    }\n",
              "\n",
              "    .dataframe tbody tr th {\n",
              "        vertical-align: top;\n",
              "    }\n",
              "\n",
              "    .dataframe thead th {\n",
              "        text-align: right;\n",
              "    }\n",
              "</style>\n",
              "<table border=\"1\" class=\"dataframe\">\n",
              "  <thead>\n",
              "    <tr style=\"text-align: right;\">\n",
              "      <th></th>\n",
              "      <th>Município</th>\n",
              "      <th>Ranking Educação</th>\n",
              "      <th>IFDM</th>\n",
              "      <th>Emprego &amp; Renda</th>\n",
              "      <th>Educação</th>\n",
              "      <th>Saúde</th>\n",
              "    </tr>\n",
              "  </thead>\n",
              "  <tbody>\n",
              "    <tr>\n",
              "      <th>0</th>\n",
              "      <td>Abadia dos Dourados</td>\n",
              "      <td>309</td>\n",
              "      <td>708.8</td>\n",
              "      <td>499.3</td>\n",
              "      <td>836.0</td>\n",
              "      <td>791.1</td>\n",
              "    </tr>\n",
              "    <tr>\n",
              "      <th>1</th>\n",
              "      <td>Abaeté</td>\n",
              "      <td>250</td>\n",
              "      <td>655.2</td>\n",
              "      <td>491.3</td>\n",
              "      <td>846.1</td>\n",
              "      <td>628.2</td>\n",
              "    </tr>\n",
              "    <tr>\n",
              "      <th>2</th>\n",
              "      <td>Abre Campo</td>\n",
              "      <td>559</td>\n",
              "      <td>641.4</td>\n",
              "      <td>436.7</td>\n",
              "      <td>792.2</td>\n",
              "      <td>695.3</td>\n",
              "    </tr>\n",
              "    <tr>\n",
              "      <th>3</th>\n",
              "      <td>Acaiaca</td>\n",
              "      <td>344</td>\n",
              "      <td>681.1</td>\n",
              "      <td>345.7</td>\n",
              "      <td>831.3</td>\n",
              "      <td>866.2</td>\n",
              "    </tr>\n",
              "    <tr>\n",
              "      <th>4</th>\n",
              "      <td>Açucena</td>\n",
              "      <td>829</td>\n",
              "      <td>674.4</td>\n",
              "      <td>407.2</td>\n",
              "      <td>712.1</td>\n",
              "      <td>903.8</td>\n",
              "    </tr>\n",
              "    <tr>\n",
              "      <th>...</th>\n",
              "      <td>...</td>\n",
              "      <td>...</td>\n",
              "      <td>...</td>\n",
              "      <td>...</td>\n",
              "      <td>...</td>\n",
              "      <td>...</td>\n",
              "    </tr>\n",
              "    <tr>\n",
              "      <th>848</th>\n",
              "      <td>Wenceslau Braz</td>\n",
              "      <td>507</td>\n",
              "      <td>731.9</td>\n",
              "      <td>450.2</td>\n",
              "      <td>801.4</td>\n",
              "      <td>944.1</td>\n",
              "    </tr>\n",
              "    <tr>\n",
              "      <th>849</th>\n",
              "      <td>Água Boa</td>\n",
              "      <td>704</td>\n",
              "      <td>507.0</td>\n",
              "      <td>400.5</td>\n",
              "      <td>763.6</td>\n",
              "      <td>356.9</td>\n",
              "    </tr>\n",
              "    <tr>\n",
              "      <th>850</th>\n",
              "      <td>Água Comprida</td>\n",
              "      <td>169</td>\n",
              "      <td>755.8</td>\n",
              "      <td>535.9</td>\n",
              "      <td>861.1</td>\n",
              "      <td>870.5</td>\n",
              "    </tr>\n",
              "    <tr>\n",
              "      <th>851</th>\n",
              "      <td>Águas Formosas</td>\n",
              "      <td>505</td>\n",
              "      <td>602.0</td>\n",
              "      <td>461.5</td>\n",
              "      <td>801.8</td>\n",
              "      <td>542.8</td>\n",
              "    </tr>\n",
              "    <tr>\n",
              "      <th>852</th>\n",
              "      <td>Águas Vermelhas</td>\n",
              "      <td>601</td>\n",
              "      <td>620.6</td>\n",
              "      <td>482.5</td>\n",
              "      <td>785.5</td>\n",
              "      <td>593.8</td>\n",
              "    </tr>\n",
              "  </tbody>\n",
              "</table>\n",
              "<p>853 rows × 6 columns</p>\n",
              "</div>"
            ],
            "text/plain": [
              "               Município  Ranking Educação  ...  Educação  Saúde\n",
              "0    Abadia dos Dourados               309  ...     836.0  791.1\n",
              "1                 Abaeté               250  ...     846.1  628.2\n",
              "2             Abre Campo               559  ...     792.2  695.3\n",
              "3                Acaiaca               344  ...     831.3  866.2\n",
              "4                Açucena               829  ...     712.1  903.8\n",
              "..                   ...               ...  ...       ...    ...\n",
              "848       Wenceslau Braz               507  ...     801.4  944.1\n",
              "849             Água Boa               704  ...     763.6  356.9\n",
              "850        Água Comprida               169  ...     861.1  870.5\n",
              "851       Águas Formosas               505  ...     801.8  542.8\n",
              "852      Águas Vermelhas               601  ...     785.5  593.8\n",
              "\n",
              "[853 rows x 6 columns]"
            ]
          },
          "metadata": {
            "tags": []
          },
          "execution_count": 190
        }
      ]
    },
    {
      "cell_type": "code",
      "metadata": {
        "id": "MDHv58mAzwKS"
      },
      "source": [
        "#listaMun.to_excel(\"output.xlsx\") "
      ],
      "execution_count": null,
      "outputs": []
    },
    {
      "cell_type": "code",
      "metadata": {
        "id": "jQLuA_hS0hNX"
      },
      "source": [
        "resultado = pd.read_csv('mesclado.csv',';')"
      ],
      "execution_count": null,
      "outputs": []
    },
    {
      "cell_type": "code",
      "metadata": {
        "id": "LV6jLELG3N0G",
        "outputId": "1b66f410-3972-4d9c-c068-887ba2a6310e",
        "colab": {
          "base_uri": "https://localhost:8080/",
          "height": 402
        }
      },
      "source": [
        "resultado.sort_values('Nota', ascending=False)"
      ],
      "execution_count": null,
      "outputs": [
        {
          "output_type": "execute_result",
          "data": {
            "text/html": [
              "<div>\n",
              "<style scoped>\n",
              "    .dataframe tbody tr th:only-of-type {\n",
              "        vertical-align: middle;\n",
              "    }\n",
              "\n",
              "    .dataframe tbody tr th {\n",
              "        vertical-align: top;\n",
              "    }\n",
              "\n",
              "    .dataframe thead th {\n",
              "        text-align: right;\n",
              "    }\n",
              "</style>\n",
              "<table border=\"1\" class=\"dataframe\">\n",
              "  <thead>\n",
              "    <tr style=\"text-align: right;\">\n",
              "      <th></th>\n",
              "      <th>Municipio</th>\n",
              "      <th>Nota</th>\n",
              "      <th>IFDM</th>\n",
              "      <th>Renda</th>\n",
              "      <th>Educação</th>\n",
              "    </tr>\n",
              "  </thead>\n",
              "  <tbody>\n",
              "    <tr>\n",
              "      <th>290</th>\n",
              "      <td>Formiga</td>\n",
              "      <td>582.025567</td>\n",
              "      <td>0.8301</td>\n",
              "      <td>0.6864</td>\n",
              "      <td>0.9126</td>\n",
              "    </tr>\n",
              "    <tr>\n",
              "      <th>844</th>\n",
              "      <td>Viçosa</td>\n",
              "      <td>574.033403</td>\n",
              "      <td>0.8024</td>\n",
              "      <td>0.6859</td>\n",
              "      <td>0.8675</td>\n",
              "    </tr>\n",
              "    <tr>\n",
              "      <th>165</th>\n",
              "      <td>Cataguases</td>\n",
              "      <td>573.066695</td>\n",
              "      <td>0.7603</td>\n",
              "      <td>0.5733</td>\n",
              "      <td>0.8522</td>\n",
              "    </tr>\n",
              "    <tr>\n",
              "      <th>43</th>\n",
              "      <td>Araxá</td>\n",
              "      <td>572.590225</td>\n",
              "      <td>0.8100</td>\n",
              "      <td>0.6936</td>\n",
              "      <td>0.9241</td>\n",
              "    </tr>\n",
              "    <tr>\n",
              "      <th>571</th>\n",
              "      <td>Pedra do Indaiá</td>\n",
              "      <td>572.585294</td>\n",
              "      <td>0.7427</td>\n",
              "      <td>0.5133</td>\n",
              "      <td>0.8354</td>\n",
              "    </tr>\n",
              "    <tr>\n",
              "      <th>...</th>\n",
              "      <td>...</td>\n",
              "      <td>...</td>\n",
              "      <td>...</td>\n",
              "      <td>...</td>\n",
              "      <td>...</td>\n",
              "    </tr>\n",
              "    <tr>\n",
              "      <th>222</th>\n",
              "      <td>Crisólita</td>\n",
              "      <td>463.603784</td>\n",
              "      <td>0.5035</td>\n",
              "      <td>0.3328</td>\n",
              "      <td>0.7201</td>\n",
              "    </tr>\n",
              "    <tr>\n",
              "      <th>671</th>\n",
              "      <td>Santa Fé de Minas</td>\n",
              "      <td>463.118431</td>\n",
              "      <td>0.6838</td>\n",
              "      <td>0.4579</td>\n",
              "      <td>0.7365</td>\n",
              "    </tr>\n",
              "    <tr>\n",
              "      <th>472</th>\n",
              "      <td>Matias Cardoso</td>\n",
              "      <td>462.018605</td>\n",
              "      <td>0.6561</td>\n",
              "      <td>0.4655</td>\n",
              "      <td>0.7193</td>\n",
              "    </tr>\n",
              "    <tr>\n",
              "      <th>729</th>\n",
              "      <td>São João das Missões</td>\n",
              "      <td>457.402722</td>\n",
              "      <td>0.5547</td>\n",
              "      <td>0.3525</td>\n",
              "      <td>0.6025</td>\n",
              "    </tr>\n",
              "    <tr>\n",
              "      <th>839</th>\n",
              "      <td>Verdelândia</td>\n",
              "      <td>453.894545</td>\n",
              "      <td>0.5842</td>\n",
              "      <td>0.2802</td>\n",
              "      <td>0.8064</td>\n",
              "    </tr>\n",
              "  </tbody>\n",
              "</table>\n",
              "<p>853 rows × 5 columns</p>\n",
              "</div>"
            ],
            "text/plain": [
              "                Municipio        Nota    IFDM   Renda  Educação\n",
              "290               Formiga  582.025567  0.8301  0.6864    0.9126\n",
              "844                Viçosa  574.033403  0.8024  0.6859    0.8675\n",
              "165            Cataguases  573.066695  0.7603  0.5733    0.8522\n",
              "43                  Araxá  572.590225  0.8100  0.6936    0.9241\n",
              "571       Pedra do Indaiá  572.585294  0.7427  0.5133    0.8354\n",
              "..                    ...         ...     ...     ...       ...\n",
              "222             Crisólita  463.603784  0.5035  0.3328    0.7201\n",
              "671     Santa Fé de Minas  463.118431  0.6838  0.4579    0.7365\n",
              "472        Matias Cardoso  462.018605  0.6561  0.4655    0.7193\n",
              "729  São João das Missões  457.402722  0.5547  0.3525    0.6025\n",
              "839           Verdelândia  453.894545  0.5842  0.2802    0.8064\n",
              "\n",
              "[853 rows x 5 columns]"
            ]
          },
          "metadata": {
            "tags": []
          },
          "execution_count": 253
        }
      ]
    },
    {
      "cell_type": "code",
      "metadata": {
        "id": "k4_QfKh_8gyr",
        "outputId": "706e5357-f18a-4074-fdd3-0696dc5d8522",
        "colab": {
          "base_uri": "https://localhost:8080/",
          "height": 402
        }
      },
      "source": [
        "resultado"
      ],
      "execution_count": null,
      "outputs": [
        {
          "output_type": "execute_result",
          "data": {
            "text/html": [
              "<div>\n",
              "<style scoped>\n",
              "    .dataframe tbody tr th:only-of-type {\n",
              "        vertical-align: middle;\n",
              "    }\n",
              "\n",
              "    .dataframe tbody tr th {\n",
              "        vertical-align: top;\n",
              "    }\n",
              "\n",
              "    .dataframe thead th {\n",
              "        text-align: right;\n",
              "    }\n",
              "</style>\n",
              "<table border=\"1\" class=\"dataframe\">\n",
              "  <thead>\n",
              "    <tr style=\"text-align: right;\">\n",
              "      <th></th>\n",
              "      <th>Municipio</th>\n",
              "      <th>Nota</th>\n",
              "      <th>IFDM</th>\n",
              "      <th>Renda</th>\n",
              "      <th>Educação</th>\n",
              "    </tr>\n",
              "  </thead>\n",
              "  <tbody>\n",
              "    <tr>\n",
              "      <th>0</th>\n",
              "      <td>Abadia dos Dourados</td>\n",
              "      <td>534.788941</td>\n",
              "      <td>0.7088</td>\n",
              "      <td>0.4993</td>\n",
              "      <td>0.8360</td>\n",
              "    </tr>\n",
              "    <tr>\n",
              "      <th>1</th>\n",
              "      <td>Abaeté</td>\n",
              "      <td>547.275936</td>\n",
              "      <td>0.6552</td>\n",
              "      <td>0.4913</td>\n",
              "      <td>0.8461</td>\n",
              "    </tr>\n",
              "    <tr>\n",
              "      <th>2</th>\n",
              "      <td>Abre Campo</td>\n",
              "      <td>533.738023</td>\n",
              "      <td>0.6414</td>\n",
              "      <td>0.4367</td>\n",
              "      <td>0.7922</td>\n",
              "    </tr>\n",
              "    <tr>\n",
              "      <th>3</th>\n",
              "      <td>Acaiaca</td>\n",
              "      <td>488.947660</td>\n",
              "      <td>0.6811</td>\n",
              "      <td>0.3457</td>\n",
              "      <td>0.8313</td>\n",
              "    </tr>\n",
              "    <tr>\n",
              "      <th>4</th>\n",
              "      <td>Açucena</td>\n",
              "      <td>515.603944</td>\n",
              "      <td>0.6744</td>\n",
              "      <td>0.4072</td>\n",
              "      <td>0.7121</td>\n",
              "    </tr>\n",
              "    <tr>\n",
              "      <th>...</th>\n",
              "      <td>...</td>\n",
              "      <td>...</td>\n",
              "      <td>...</td>\n",
              "      <td>...</td>\n",
              "      <td>...</td>\n",
              "    </tr>\n",
              "    <tr>\n",
              "      <th>848</th>\n",
              "      <td>Virginópolis</td>\n",
              "      <td>548.276106</td>\n",
              "      <td>0.6176</td>\n",
              "      <td>0.3768</td>\n",
              "      <td>0.7948</td>\n",
              "    </tr>\n",
              "    <tr>\n",
              "      <th>849</th>\n",
              "      <td>Virgolândia</td>\n",
              "      <td>509.596923</td>\n",
              "      <td>0.6813</td>\n",
              "      <td>0.3371</td>\n",
              "      <td>0.7802</td>\n",
              "    </tr>\n",
              "    <tr>\n",
              "      <th>850</th>\n",
              "      <td>Visconde do Rio Branco</td>\n",
              "      <td>558.753975</td>\n",
              "      <td>0.7410</td>\n",
              "      <td>0.6084</td>\n",
              "      <td>0.8545</td>\n",
              "    </tr>\n",
              "    <tr>\n",
              "      <th>851</th>\n",
              "      <td>Volta Grande</td>\n",
              "      <td>528.737838</td>\n",
              "      <td>0.6789</td>\n",
              "      <td>0.4499</td>\n",
              "      <td>0.7862</td>\n",
              "    </tr>\n",
              "    <tr>\n",
              "      <th>852</th>\n",
              "      <td>Wenceslau Braz</td>\n",
              "      <td>555.699444</td>\n",
              "      <td>0.7319</td>\n",
              "      <td>0.4502</td>\n",
              "      <td>0.8014</td>\n",
              "    </tr>\n",
              "  </tbody>\n",
              "</table>\n",
              "<p>853 rows × 5 columns</p>\n",
              "</div>"
            ],
            "text/plain": [
              "                  Municipio        Nota    IFDM   Renda  Educação\n",
              "0       Abadia dos Dourados  534.788941  0.7088  0.4993    0.8360\n",
              "1                    Abaeté  547.275936  0.6552  0.4913    0.8461\n",
              "2                Abre Campo  533.738023  0.6414  0.4367    0.7922\n",
              "3                   Acaiaca  488.947660  0.6811  0.3457    0.8313\n",
              "4                   Açucena  515.603944  0.6744  0.4072    0.7121\n",
              "..                      ...         ...     ...     ...       ...\n",
              "848            Virginópolis  548.276106  0.6176  0.3768    0.7948\n",
              "849             Virgolândia  509.596923  0.6813  0.3371    0.7802\n",
              "850  Visconde do Rio Branco  558.753975  0.7410  0.6084    0.8545\n",
              "851            Volta Grande  528.737838  0.6789  0.4499    0.7862\n",
              "852          Wenceslau Braz  555.699444  0.7319  0.4502    0.8014\n",
              "\n",
              "[853 rows x 5 columns]"
            ]
          },
          "metadata": {
            "tags": []
          },
          "execution_count": 254
        }
      ]
    },
    {
      "cell_type": "code",
      "metadata": {
        "id": "xDSxKkkh9HPa",
        "outputId": "eb6201a8-1b19-48c8-e92a-1fb2cd958c10",
        "colab": {
          "base_uri": "https://localhost:8080/",
          "height": 402
        }
      },
      "source": [
        "resultado['IFDM'] = resultado['IFDM']*1000\n",
        "resultado['Renda'] = resultado['Renda']*1000\n",
        "resultado['Educação'] = resultado['Educação']*1000\n",
        "resultado"
      ],
      "execution_count": null,
      "outputs": [
        {
          "output_type": "execute_result",
          "data": {
            "text/html": [
              "<div>\n",
              "<style scoped>\n",
              "    .dataframe tbody tr th:only-of-type {\n",
              "        vertical-align: middle;\n",
              "    }\n",
              "\n",
              "    .dataframe tbody tr th {\n",
              "        vertical-align: top;\n",
              "    }\n",
              "\n",
              "    .dataframe thead th {\n",
              "        text-align: right;\n",
              "    }\n",
              "</style>\n",
              "<table border=\"1\" class=\"dataframe\">\n",
              "  <thead>\n",
              "    <tr style=\"text-align: right;\">\n",
              "      <th></th>\n",
              "      <th>Municipio</th>\n",
              "      <th>Nota</th>\n",
              "      <th>IFDM</th>\n",
              "      <th>Renda</th>\n",
              "      <th>Educação</th>\n",
              "    </tr>\n",
              "  </thead>\n",
              "  <tbody>\n",
              "    <tr>\n",
              "      <th>0</th>\n",
              "      <td>Abadia dos Dourados</td>\n",
              "      <td>534.788941</td>\n",
              "      <td>708.8</td>\n",
              "      <td>499.3</td>\n",
              "      <td>836.0</td>\n",
              "    </tr>\n",
              "    <tr>\n",
              "      <th>1</th>\n",
              "      <td>Abaeté</td>\n",
              "      <td>547.275936</td>\n",
              "      <td>655.2</td>\n",
              "      <td>491.3</td>\n",
              "      <td>846.1</td>\n",
              "    </tr>\n",
              "    <tr>\n",
              "      <th>2</th>\n",
              "      <td>Abre Campo</td>\n",
              "      <td>533.738023</td>\n",
              "      <td>641.4</td>\n",
              "      <td>436.7</td>\n",
              "      <td>792.2</td>\n",
              "    </tr>\n",
              "    <tr>\n",
              "      <th>3</th>\n",
              "      <td>Acaiaca</td>\n",
              "      <td>488.947660</td>\n",
              "      <td>681.1</td>\n",
              "      <td>345.7</td>\n",
              "      <td>831.3</td>\n",
              "    </tr>\n",
              "    <tr>\n",
              "      <th>4</th>\n",
              "      <td>Açucena</td>\n",
              "      <td>515.603944</td>\n",
              "      <td>674.4</td>\n",
              "      <td>407.2</td>\n",
              "      <td>712.1</td>\n",
              "    </tr>\n",
              "    <tr>\n",
              "      <th>...</th>\n",
              "      <td>...</td>\n",
              "      <td>...</td>\n",
              "      <td>...</td>\n",
              "      <td>...</td>\n",
              "      <td>...</td>\n",
              "    </tr>\n",
              "    <tr>\n",
              "      <th>848</th>\n",
              "      <td>Virginópolis</td>\n",
              "      <td>548.276106</td>\n",
              "      <td>617.6</td>\n",
              "      <td>376.8</td>\n",
              "      <td>794.8</td>\n",
              "    </tr>\n",
              "    <tr>\n",
              "      <th>849</th>\n",
              "      <td>Virgolândia</td>\n",
              "      <td>509.596923</td>\n",
              "      <td>681.3</td>\n",
              "      <td>337.1</td>\n",
              "      <td>780.2</td>\n",
              "    </tr>\n",
              "    <tr>\n",
              "      <th>850</th>\n",
              "      <td>Visconde do Rio Branco</td>\n",
              "      <td>558.753975</td>\n",
              "      <td>741.0</td>\n",
              "      <td>608.4</td>\n",
              "      <td>854.5</td>\n",
              "    </tr>\n",
              "    <tr>\n",
              "      <th>851</th>\n",
              "      <td>Volta Grande</td>\n",
              "      <td>528.737838</td>\n",
              "      <td>678.9</td>\n",
              "      <td>449.9</td>\n",
              "      <td>786.2</td>\n",
              "    </tr>\n",
              "    <tr>\n",
              "      <th>852</th>\n",
              "      <td>Wenceslau Braz</td>\n",
              "      <td>555.699444</td>\n",
              "      <td>731.9</td>\n",
              "      <td>450.2</td>\n",
              "      <td>801.4</td>\n",
              "    </tr>\n",
              "  </tbody>\n",
              "</table>\n",
              "<p>853 rows × 5 columns</p>\n",
              "</div>"
            ],
            "text/plain": [
              "                  Municipio        Nota   IFDM  Renda  Educação\n",
              "0       Abadia dos Dourados  534.788941  708.8  499.3     836.0\n",
              "1                    Abaeté  547.275936  655.2  491.3     846.1\n",
              "2                Abre Campo  533.738023  641.4  436.7     792.2\n",
              "3                   Acaiaca  488.947660  681.1  345.7     831.3\n",
              "4                   Açucena  515.603944  674.4  407.2     712.1\n",
              "..                      ...         ...    ...    ...       ...\n",
              "848            Virginópolis  548.276106  617.6  376.8     794.8\n",
              "849             Virgolândia  509.596923  681.3  337.1     780.2\n",
              "850  Visconde do Rio Branco  558.753975  741.0  608.4     854.5\n",
              "851            Volta Grande  528.737838  678.9  449.9     786.2\n",
              "852          Wenceslau Braz  555.699444  731.9  450.2     801.4\n",
              "\n",
              "[853 rows x 5 columns]"
            ]
          },
          "metadata": {
            "tags": []
          },
          "execution_count": 255
        }
      ]
    },
    {
      "cell_type": "code",
      "metadata": {
        "id": "KxsUX3-I4NGN",
        "outputId": "50fd563f-1114-4cca-d191-a9bb6390dcd6",
        "colab": {
          "base_uri": "https://localhost:8080/",
          "height": 402
        }
      },
      "source": [
        "plt.figure(figsize=(14, 8))\n",
        "sns.displot(resultado, x =\"Nota\", y=\"Educação\")"
      ],
      "execution_count": null,
      "outputs": [
        {
          "output_type": "execute_result",
          "data": {
            "text/plain": [
              "<seaborn.axisgrid.FacetGrid at 0x7f5cc17e5908>"
            ]
          },
          "metadata": {
            "tags": []
          },
          "execution_count": 256
        },
        {
          "output_type": "display_data",
          "data": {
            "text/plain": [
              "<Figure size 1008x576 with 0 Axes>"
            ]
          },
          "metadata": {
            "tags": []
          }
        },
        {
          "output_type": "display_data",
          "data": {
            "image/png": "[encoded data removed]",
            "text/plain": [
              "<Figure size 360x360 with 1 Axes>"
            ]
          },
          "metadata": {
            "tags": [],
            "needs_background": "light"
          }
        }
      ]
    },
    {
      "cell_type": "code",
      "metadata": {
        "id": "PhOdy6Ri8Lev"
      },
      "source": [
        "resultado['Nota'] = pd.to_numeric(resultado['Nota'])\n",
        "resultado['Educação'] = pd.to_numeric(resultado['Educação'])"
      ],
      "execution_count": null,
      "outputs": []
    },
    {
      "cell_type": "code",
      "metadata": {
        "id": "PCGtIz8IH705"
      },
      "source": [
        "\n",
        "class SimpleLinearRegression:\n",
        "    def __init__(self):\n",
        "        self.coef_ = None\n",
        "        self.intercept_ = None\n",
        "        self.formula = None\n",
        "        self.X = None\n",
        "        self.y = None\n",
        "    \n",
        "    def fit(self, X, y):\n",
        "        X = np.array(X)\n",
        "        y = np.array(y)\n",
        "        \n",
        "        self.X = X\n",
        "        self.y = y\n",
        "        soma_xy = sum(X * y)\n",
        "        soma_x_ao_quadrado = sum(X * X)\n",
        "        soma_x = sum(X)\n",
        "        soma_y = sum(y)\n",
        "        n = len(X)\n",
        "        media_x = X.mean()\n",
        "        media_y = y.mean()\n",
        "        \n",
        "        # build formula y = ax + b\n",
        "        a = ( soma_xy - n * media_x * media_y ) / ( soma_x_ao_quadrado - n * ( media_x ** 2 ) )\n",
        "        b = media_y - (a * media_x)\n",
        "        \n",
        "        self.coef_ = np.array([ b ])\n",
        "        self.intercept_ = np.array([ a ])\n",
        "        \n",
        "        self.formula = lambda _x : (a * _x) + b\n",
        "    \n",
        "    def predict(self, x):\n",
        "        return np.array(list(map(self.formula, x)))\n",
        "    \n",
        "    # fonte: https://edisciplinas.usp.br/pluginfile.php/1479289/mod_resource/content/0/regr_lin.pdf\n",
        "    def sum_total_quadratic(self):\n",
        "        median = self.y.mean()\n",
        "        return sum( ( y - median ) ** 2 )\n",
        "    \n",
        "    def sum_error_quadratic(self):\n",
        "        predicted = self.predict(x=self.X)\n",
        "        return sum( ( self.y - predicted ) ** 2 )\n",
        "\n",
        "    def regression_quadratic_sum(self):\n",
        "        return self.sum_total_quadratic() - self.sum_error_quadratic()\n",
        "    \n",
        "    def score(self):\n",
        "        return self.regression_quadratic_sum() / self.sum_total_quadratic()"
      ],
      "execution_count": null,
      "outputs": []
    },
    {
      "cell_type": "code",
      "metadata": {
        "id": "ZrD63aCx92rt"
      },
      "source": [
        "resultado['Nota'] = x\n",
        "resultado['Educação'] = y\n",
        "\n",
        "x_v = pd.DataFrame(x)\n",
        "y_v = pd.DataFrame(y)"
      ],
      "execution_count": null,
      "outputs": []
    },
    {
      "cell_type": "code",
      "metadata": {
        "id": "jmcsTnrFGeTx",
        "outputId": "5da4f429-85e5-4f1e-afbe-ec422267fc36",
        "colab": {
          "base_uri": "https://localhost:8080/"
        }
      },
      "source": [
        "model = LinearRegression()\n",
        "model.fit(x_v, y_v)"
      ],
      "execution_count": null,
      "outputs": [
        {
          "output_type": "execute_result",
          "data": {
            "text/plain": [
              "LinearRegression(copy_X=True, fit_intercept=True, n_jobs=None, normalize=False)"
            ]
          },
          "metadata": {
            "tags": []
          },
          "execution_count": 273
        }
      ]
    },
    {
      "cell_type": "code",
      "metadata": {
        "id": "xOPtbrF5HkTN",
        "outputId": "c40b59e3-bf8a-4876-ec48-d94cf4ce10fb",
        "colab": {
          "base_uri": "https://localhost:8080/"
        }
      },
      "source": [
        "model.coef_"
      ],
      "execution_count": null,
      "outputs": [
        {
          "output_type": "execute_result",
          "data": {
            "text/plain": [
              "array([[0.00109171]])"
            ]
          },
          "metadata": {
            "tags": []
          },
          "execution_count": 274
        }
      ]
    },
    {
      "cell_type": "code",
      "metadata": {
        "id": "omCnV4rRHnoY"
      },
      "source": [
        ""
      ],
      "execution_count": null,
      "outputs": []
    }
  ]
}